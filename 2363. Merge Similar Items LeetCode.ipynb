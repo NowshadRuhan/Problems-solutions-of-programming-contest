{
 "cells": [
  {
   "cell_type": "code",
   "execution_count": 4,
   "id": "c5123498",
   "metadata": {},
   "outputs": [],
   "source": [
    "class Solution(object):\n",
    "    def mergeSimilarItems(self, items1, items2):\n",
    "        \"\"\"\n",
    "        :type items1: List[List[int]]\n",
    "        :type items2: List[List[int]]\n",
    "        :rtype: List[List[int]]\n",
    "        \"\"\"\n",
    "        dictionary1 = {}\n",
    "        result1 = []\n",
    "        items1.extend(items2)\n",
    "        #print(items1)\n",
    "        for i in items1:\n",
    "            if i[0] not in dictionary1:\n",
    "                dictionary1[i[0]] = i[1]\n",
    "            else:\n",
    "                dictionary1[i[0]] += i[1]\n",
    "        #print(dictionary1)\n",
    "        for i in dic:\n",
    "            result1.append([i, dictionary1[i]])\n",
    "            #print(result1)\n",
    "        return sorted(result1)"
   ]
  },
  {
   "cell_type": "code",
   "execution_count": null,
   "id": "ac55921f",
   "metadata": {},
   "outputs": [],
   "source": []
  }
 ],
 "metadata": {
  "kernelspec": {
   "display_name": "Python 3",
   "language": "python",
   "name": "python3"
  },
  "language_info": {
   "codemirror_mode": {
    "name": "ipython",
    "version": 3
   },
   "file_extension": ".py",
   "mimetype": "text/x-python",
   "name": "python",
   "nbconvert_exporter": "python",
   "pygments_lexer": "ipython3",
   "version": "3.8.8"
  }
 },
 "nbformat": 4,
 "nbformat_minor": 5
}
