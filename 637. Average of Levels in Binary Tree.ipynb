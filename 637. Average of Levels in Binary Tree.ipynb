{
 "cells": [
  {
   "cell_type": "code",
   "execution_count": 5,
   "id": "4d3554c3",
   "metadata": {},
   "outputs": [],
   "source": [
    "# Definition for a binary tree node.\n",
    "# class TreeNode(object):\n",
    "#     def __init__(self, val=0, left=None, right=None):\n",
    "#         self.val = val\n",
    "#         self.left = left\n",
    "#         self.right = right\n",
    "# from binarytree import build\n",
    "\n",
    "class Solution(object):\n",
    "    def averageOfLevels(self, root):\n",
    "        \"\"\"\n",
    "        :type root: TreeNode\n",
    "        :rtype: List[float]\n",
    "        \"\"\"\n",
    "        \n",
    "        #BFS solution\n",
    "        checkerQuee = []\n",
    "        result = []\n",
    "        checkerQuee.append(root)\n",
    "        while(checkerQuee):\n",
    "            elementsOnLevel = len(checkerQuee)\n",
    "            avarage = 0.0\n",
    "            for i in range(elementsOnLevel):\n",
    "                node = checkerQuee.pop(0)\n",
    "                avarage += node.val\n",
    "                if node.left:   \n",
    "                    checkerQuee.append(node.left)\n",
    "                if node.right:\n",
    "                    checkerQuee.append(node.right)\n",
    "            \n",
    "            \n",
    "            result.append(avarage/elementsOnLevel)\n",
    "            \n",
    "        return result \n",
    "    \n",
    "# nodes =[3, 6, 8, 2, 11, None, 13]\n",
    "# root = build(nodes)\n",
    "# obj = Solution()\n",
    "# print(obj.averageOfLevels(root))"
   ]
  },
  {
   "cell_type": "code",
   "execution_count": null,
   "id": "d5693385",
   "metadata": {},
   "outputs": [],
   "source": []
  }
 ],
 "metadata": {
  "kernelspec": {
   "display_name": "Python 3",
   "language": "python",
   "name": "python3"
  },
  "language_info": {
   "codemirror_mode": {
    "name": "ipython",
    "version": 3
   },
   "file_extension": ".py",
   "mimetype": "text/x-python",
   "name": "python",
   "nbconvert_exporter": "python",
   "pygments_lexer": "ipython3",
   "version": "3.8.8"
  }
 },
 "nbformat": 4,
 "nbformat_minor": 5
}
