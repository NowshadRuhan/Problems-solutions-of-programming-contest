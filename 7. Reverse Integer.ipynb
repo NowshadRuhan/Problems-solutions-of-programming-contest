{
 "cells": [
  {
   "cell_type": "code",
   "execution_count": null,
   "id": "f9d4e1cc",
   "metadata": {},
   "outputs": [],
   "source": [
    "class Solution(object):\n",
    "    def reverse(self, x):\n",
    "        \"\"\"\n",
    "        :type x: int\n",
    "        :rtype: int\n",
    "        \"\"\"\n",
    "        \n",
    "        sign = x\n",
    "        \n",
    "        if x < 0:\n",
    "            x = x*(-1)\n",
    "         \n",
    "        flag = 0\n",
    "        result = 0\n",
    "        \n",
    "#         using this for loop you can change number 123 to 321 in integer type\n",
    "        while x > 0:\n",
    "            flag = x%10\n",
    "            x = x/10\n",
    "            result = result*10+flag\n",
    "\n",
    "        \n",
    "        if sign > 0:\n",
    "#             checking result is 32 bit or not  \n",
    "            if(result > 2147483647 or result < -2147483647):\n",
    "                return 0\n",
    "            else:\n",
    "                return result\n",
    "        else:\n",
    "            result = result*(-1)\n",
    "            if(result > 2147483647 or result < -2147483647):\n",
    "                return 0\n",
    "            else:\n",
    "                return result"
   ]
  }
 ],
 "metadata": {
  "kernelspec": {
   "display_name": "Python 3",
   "language": "python",
   "name": "python3"
  },
  "language_info": {
   "codemirror_mode": {
    "name": "ipython",
    "version": 3
   },
   "file_extension": ".py",
   "mimetype": "text/x-python",
   "name": "python",
   "nbconvert_exporter": "python",
   "pygments_lexer": "ipython3",
   "version": "3.8.8"
  }
 },
 "nbformat": 4,
 "nbformat_minor": 5
}
