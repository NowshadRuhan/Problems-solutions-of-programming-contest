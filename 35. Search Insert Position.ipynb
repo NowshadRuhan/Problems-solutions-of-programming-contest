{
 "cells": [
  {
   "cell_type": "code",
   "execution_count": null,
   "id": "313ac288",
   "metadata": {},
   "outputs": [],
   "source": [
    "class Solution(object):\n",
    "    def searchInsert(self, nums, target):\n",
    "        \"\"\"\n",
    "        :type nums: List[int]\n",
    "        :type target: int\n",
    "        :rtype: int\n",
    "        \"\"\"\n",
    "        length = len(nums)\n",
    "        if target in nums:\n",
    "            for i in range(length):\n",
    "                if nums[i] == target:\n",
    "                    return i    \n",
    "        else:\n",
    "            if (target >= length and nums[length-1]<target):\n",
    "                if nums[length-1] == target-1:\n",
    "                    return length\n",
    "                else:\n",
    "                    return length\n",
    "                    \n",
    "            else:\n",
    "                if nums[length-1]>target:\n",
    "                    for i in range(length):\n",
    "                        if nums[i] > target:\n",
    "                            return i\n",
    "                else:\n",
    "                    return length"
   ]
  }
 ],
 "metadata": {
  "kernelspec": {
   "display_name": "Python 3",
   "language": "python",
   "name": "python3"
  },
  "language_info": {
   "codemirror_mode": {
    "name": "ipython",
    "version": 3
   },
   "file_extension": ".py",
   "mimetype": "text/x-python",
   "name": "python",
   "nbconvert_exporter": "python",
   "pygments_lexer": "ipython3",
   "version": "3.8.8"
  }
 },
 "nbformat": 4,
 "nbformat_minor": 5
}
