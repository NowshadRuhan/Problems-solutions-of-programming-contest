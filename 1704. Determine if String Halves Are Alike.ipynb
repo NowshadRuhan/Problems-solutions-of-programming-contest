{
 "cells": [
  {
   "cell_type": "code",
   "execution_count": 4,
   "id": "427791b3",
   "metadata": {},
   "outputs": [],
   "source": [
    "class Solution(object):\n",
    "    def halvesAreAlike(self, s):\n",
    "        \"\"\"\n",
    "        :type s: str\n",
    "        :rtype: bool\n",
    "        \"\"\"\n",
    "        length = len(s)\n",
    "        firstHalf = s[:length/2]\n",
    "        secondHalf = s[length/2:]\n",
    "        \n",
    "        countFirstHalf = 0\n",
    "        countSecondHalf = 0\n",
    "        \n",
    "        for i in range(len(firstHalf)):\n",
    "            if (firstHalf[i] == \"a\" or firstHalf[i] == \"A\"):\n",
    "                countFirstHalf+=1\n",
    "            \n",
    "            if (firstHalf[i] == \"e\" or firstHalf[i] == \"E\"):\n",
    "                countFirstHalf+=1\n",
    "            \n",
    "            if (firstHalf[i] == \"i\" or firstHalf[i] == \"I\"):\n",
    "                countFirstHalf+=1\n",
    "                \n",
    "            if (firstHalf[i] == \"o\" or firstHalf[i] == \"O\"):\n",
    "                countFirstHalf+=1\n",
    "            \n",
    "            if (firstHalf[i] == \"u\" or firstHalf[i] == \"U\"):\n",
    "                countFirstHalf+=1\n",
    "        \n",
    "        \n",
    "        \n",
    "        for i in range(len(secondHalf)):\n",
    "            if (secondHalf[i] == \"a\" or secondHalf[i] == \"A\"):\n",
    "                countSecondHalf+=1\n",
    "            \n",
    "            if (secondHalf[i] == \"e\" or secondHalf[i] == \"E\"):\n",
    "                countSecondHalf+=1\n",
    "            \n",
    "            if (secondHalf[i] == \"i\" or secondHalf[i] == \"I\"):\n",
    "                countSecondHalf+=1\n",
    "                \n",
    "            if (secondHalf[i] == \"o\" or secondHalf[i] == \"O\"):\n",
    "                countSecondHalf+=1\n",
    "            \n",
    "            if (secondHalf[i] == \"u\" or secondHalf[i] == \"U\"):\n",
    "                countSecondHalf+=1\n",
    "        \n",
    "        if countFirstHalf == countSecondHalf:\n",
    "            return True\n",
    "        else:\n",
    "            return False\n",
    "                \n",
    "        # print(firstHalf)\n",
    "        # print(secondHalf)\n",
    "# obj = Solution()\n",
    "# print(obj.halvesAreAlike('book'))"
   ]
  },
  {
   "cell_type": "code",
   "execution_count": null,
   "id": "efff5b47",
   "metadata": {},
   "outputs": [],
   "source": []
  }
 ],
 "metadata": {
  "kernelspec": {
   "display_name": "Python 3",
   "language": "python",
   "name": "python3"
  },
  "language_info": {
   "codemirror_mode": {
    "name": "ipython",
    "version": 3
   },
   "file_extension": ".py",
   "mimetype": "text/x-python",
   "name": "python",
   "nbconvert_exporter": "python",
   "pygments_lexer": "ipython3",
   "version": "3.8.8"
  }
 },
 "nbformat": 4,
 "nbformat_minor": 5
}
