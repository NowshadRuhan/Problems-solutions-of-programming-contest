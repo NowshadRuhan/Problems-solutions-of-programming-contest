{
 "cells": [
  {
   "cell_type": "code",
   "execution_count": null,
   "id": "f32943c7",
   "metadata": {},
   "outputs": [],
   "source": [
    "# Definition for singly-linked list.\n",
    "# class ListNode(object):\n",
    "#     def __init__(self, val=0, next=None):\n",
    "#         self.val = val\n",
    "#         self.next = next\n",
    "class Solution(object):\n",
    "    def addTwoNumbers(self, l1, l2):\n",
    "        \"\"\"\n",
    "        :type l1: ListNode\n",
    "        :type l2: ListNode\n",
    "        :rtype: ListNode\n",
    "        \"\"\"\n",
    "        # print(l1)\n",
    "        \n",
    "        s1 = ''\n",
    "        s2 = ''\n",
    "        while l1 != None:\n",
    "            s1 = str(int(l1.val))+s1\n",
    "            l1 = l1.next\n",
    "            # print(s1)\n",
    "            \n",
    "        while l2 != None:\n",
    "            s2 = str(int(l2.val))+s2\n",
    "            l2 = l2.next\n",
    "            # print(s2)\n",
    "            \n",
    "        s1 = int(s1) + int(s2)\n",
    "        # print(s1)\n",
    "        s1 = str(s1)\n",
    "        print(s1)\n",
    "        # s1 = s1[::-1]\n",
    "        # print(s1)\n",
    "        # s1 = int(s1)\n",
    "        # print(s1)\n",
    "\n",
    "        \n",
    "        head1 = None\n",
    "        \n",
    "        for i in s1:\n",
    "            head1 = ListNode(int(i), next=head1)\n",
    "        \n",
    "        return head1\n",
    "            \n",
    "        # print(flag_array)\n",
    "        # return head\n",
    "    \n",
    "\n",
    "        "
   ]
  }
 ],
 "metadata": {
  "kernelspec": {
   "display_name": "Python 3",
   "language": "python",
   "name": "python3"
  },
  "language_info": {
   "codemirror_mode": {
    "name": "ipython",
    "version": 3
   },
   "file_extension": ".py",
   "mimetype": "text/x-python",
   "name": "python",
   "nbconvert_exporter": "python",
   "pygments_lexer": "ipython3",
   "version": "3.8.8"
  }
 },
 "nbformat": 4,
 "nbformat_minor": 5
}
