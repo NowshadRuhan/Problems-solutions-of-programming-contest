{
 "cells": [
  {
   "cell_type": "code",
   "execution_count": null,
   "id": "d7fa04f7",
   "metadata": {},
   "outputs": [],
   "source": [
    "class Solution(object):\n",
    "    def longestValidParentheses(self, s):\n",
    "        \"\"\"\n",
    "        :type s: str\n",
    "        :rtype: int\n",
    "        \"\"\"\n",
    "        #initialise the stack to have a -1 value\n",
    "        stack = [-1]\n",
    "        maxValid = 0\n",
    "        \n",
    "        for i in range(len(s)):\n",
    "            if s[i] == '(':\n",
    "                #append the index of the parathesis\n",
    "                stack.append(i)\n",
    "            #if the s[i] is ')'\n",
    "            else:\n",
    "                stack.pop()\n",
    "                if stack == []:\n",
    "                    stack.append(i)\n",
    "                else:\n",
    "                    #get the length of the longest valid parentheses\n",
    "                    length = i - stack[-1]\n",
    "                    maxValid = max(length, maxValid)\n",
    "        return maxValid\n",
    "        "
   ]
  }
 ],
 "metadata": {
  "kernelspec": {
   "display_name": "Python 3",
   "language": "python",
   "name": "python3"
  },
  "language_info": {
   "codemirror_mode": {
    "name": "ipython",
    "version": 3
   },
   "file_extension": ".py",
   "mimetype": "text/x-python",
   "name": "python",
   "nbconvert_exporter": "python",
   "pygments_lexer": "ipython3",
   "version": "3.8.8"
  }
 },
 "nbformat": 4,
 "nbformat_minor": 5
}
