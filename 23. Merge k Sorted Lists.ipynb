{
 "cells": [
  {
   "cell_type": "code",
   "execution_count": null,
   "id": "0177b618",
   "metadata": {},
   "outputs": [],
   "source": [
    "# Definition for singly-linked list.\n",
    "# class ListNode(object):\n",
    "#     def __init__(self, val=0, next=None):\n",
    "#         self.val = val\n",
    "#         self.next = next\n",
    "class Solution(object):\n",
    "    def mergeKLists(self, lists):\n",
    "        \"\"\"\n",
    "        :type lists: List[ListNode]\n",
    "        :rtype: ListNode\n",
    "        \"\"\"\n",
    "        length1 = len(lists)  \n",
    "        margeArray = []    \n",
    "        for i in range(length1):\n",
    "            while lists[i] != None:\n",
    "                margeArray.append(lists[i].val)\n",
    "                lists[i] = lists[i].next\n",
    "\n",
    "        margeArray = sorted(margeArray)\n",
    "        margeArray = margeArray[::-1]\n",
    "        head1 = None\n",
    "        for i in margeArray:\n",
    "            head1 = ListNode(int(i), next=head1)\n",
    "         \n",
    "        return head1\n"
   ]
  }
 ],
 "metadata": {
  "kernelspec": {
   "display_name": "Python 3",
   "language": "python",
   "name": "python3"
  },
  "language_info": {
   "codemirror_mode": {
    "name": "ipython",
    "version": 3
   },
   "file_extension": ".py",
   "mimetype": "text/x-python",
   "name": "python",
   "nbconvert_exporter": "python",
   "pygments_lexer": "ipython3",
   "version": "3.8.8"
  }
 },
 "nbformat": 4,
 "nbformat_minor": 5
}
