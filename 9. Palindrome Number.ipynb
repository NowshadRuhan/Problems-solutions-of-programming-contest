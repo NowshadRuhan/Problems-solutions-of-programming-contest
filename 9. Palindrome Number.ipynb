{
 "cells": [
  {
   "cell_type": "code",
   "execution_count": null,
   "id": "353df66a",
   "metadata": {},
   "outputs": [],
   "source": [
    "class Solution(object):\n",
    "    def isPalindrome(self, x):\n",
    "        \"\"\"\n",
    "        :type x: int\n",
    "        :rtype: bool\n",
    "        \"\"\"\n",
    "        old = x\n",
    "        if x < 0:\n",
    "            return False\n",
    "        else:\n",
    "            flag = 0\n",
    "            result = 0\n",
    "            # using this for loop you can change number 121to 121 in integer type\n",
    "            while x > 0:\n",
    "                flag = x%10\n",
    "                x = x/10\n",
    "                result = result*10+flag\n",
    "            \n",
    "            \n",
    "            if result == old:\n",
    "                return True\n",
    "            else:\n",
    "                return False\n",
    "\n",
    "ob1 = Solution()\n",
    "print(ob1.isPalindrome(121))"
   ]
  }
 ],
 "metadata": {
  "kernelspec": {
   "display_name": "Python 3",
   "language": "python",
   "name": "python3"
  },
  "language_info": {
   "codemirror_mode": {
    "name": "ipython",
    "version": 3
   },
   "file_extension": ".py",
   "mimetype": "text/x-python",
   "name": "python",
   "nbconvert_exporter": "python",
   "pygments_lexer": "ipython3",
   "version": "3.8.8"
  }
 },
 "nbformat": 4,
 "nbformat_minor": 5
}
