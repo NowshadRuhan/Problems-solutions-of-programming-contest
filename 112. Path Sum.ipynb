{
 "cells": [
  {
   "cell_type": "code",
   "execution_count": null,
   "id": "9371df7d",
   "metadata": {},
   "outputs": [],
   "source": [
    "# Definition for a binary tree node.\n",
    "# class TreeNode(object):\n",
    "#     def __init__(self, val=0, left=None, right=None):\n",
    "#         self.val = val\n",
    "#         self.left = left\n",
    "#         self.right = right\n",
    "class Solution(object):\n",
    "    def hasPathSum(self, root, targetSum):\n",
    "        \"\"\"\n",
    "        :type root: TreeNode\n",
    "        :type targetSum: int\n",
    "        :rtype: bool\n",
    "        \"\"\"\n",
    "        def hasSumHelper(root, curr_sum):\n",
    "            if root == None: return False\n",
    "            \n",
    "            curr_sum += root.val\n",
    "            if not root.left and not root.right and curr_sum == targetSum: \n",
    "                return True\n",
    "            \n",
    "            return hasSumHelper(root.left, curr_sum) or hasSumHelper(root.right, curr_sum)\n",
    "            \n",
    "        \n",
    "        return hasSumHelper(root, 0)"
   ]
  }
 ],
 "metadata": {
  "kernelspec": {
   "display_name": "Python 3",
   "language": "python",
   "name": "python3"
  },
  "language_info": {
   "codemirror_mode": {
    "name": "ipython",
    "version": 3
   },
   "file_extension": ".py",
   "mimetype": "text/x-python",
   "name": "python",
   "nbconvert_exporter": "python",
   "pygments_lexer": "ipython3",
   "version": "3.8.8"
  }
 },
 "nbformat": 4,
 "nbformat_minor": 5
}
