{
 "cells": [
  {
   "cell_type": "code",
   "execution_count": 1,
   "id": "f85168cf",
   "metadata": {},
   "outputs": [
    {
     "name": "stdout",
     "output_type": "stream",
     "text": [
      "fl\n"
     ]
    }
   ],
   "source": [
    "class Solution(object):\n",
    "    def longestCommonPrefix(self, strs):\n",
    "        \"\"\"\n",
    "        :type strs: List[str]\n",
    "        :rtype: str\n",
    "        \"\"\"\n",
    "        length = len(strs)\n",
    "        if length < 0:\n",
    "            return \"\"\n",
    "        \n",
    "        firstStr = strs[0]\n",
    "        for string in strs[1:]:\n",
    "#             Checking prefix one by one\n",
    "            while string[:len(firstStr)] != firstStr:\n",
    "                firstStr = firstStr[:len(firstStr)-1]\n",
    "#             if prefix goes to empty loop will be stop\n",
    "            if firstStr == \"\":\n",
    "                break\n",
    "            \n",
    "        \n",
    "        if firstStr == \"\":\n",
    "            return \"\"\n",
    "        else:\n",
    "            return firstStr\n",
    "        \n",
    "ob1 = Solution()\n",
    "strs = [\"flower\",\"flow\",\"flight\"]\n",
    "print(ob1.longestCommonPrefix(strs))"
   ]
  },
  {
   "cell_type": "code",
   "execution_count": null,
   "id": "6887b884",
   "metadata": {},
   "outputs": [],
   "source": []
  }
 ],
 "metadata": {
  "kernelspec": {
   "display_name": "Python 3",
   "language": "python",
   "name": "python3"
  },
  "language_info": {
   "codemirror_mode": {
    "name": "ipython",
    "version": 3
   },
   "file_extension": ".py",
   "mimetype": "text/x-python",
   "name": "python",
   "nbconvert_exporter": "python",
   "pygments_lexer": "ipython3",
   "version": "3.8.8"
  }
 },
 "nbformat": 4,
 "nbformat_minor": 5
}
