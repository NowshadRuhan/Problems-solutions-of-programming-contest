{
 "cells": [
  {
   "cell_type": "code",
   "execution_count": null,
   "id": "b77ad14a",
   "metadata": {},
   "outputs": [],
   "source": [
    "# Definition for singly-linked list.\n",
    "# class ListNode(object):\n",
    "#     def __init__(self, val=0, next=None):\n",
    "#         self.val = val\n",
    "#         self.next = next\n",
    "class Solution(object):\n",
    "    def mergeTwoLists(self, list1, list2):\n",
    "        \"\"\"\n",
    "        :type list1: Optional[ListNode]\n",
    "        :type list2: Optional[ListNode]\n",
    "        :rtype: Optional[ListNode]\n",
    "        \"\"\"\n",
    "        margeArray1 = []\n",
    "        margeArray2 = []\n",
    "        \n",
    "        while list1 != None:\n",
    "                margeArray1.append(list1.val)\n",
    "                list1 = list1.next\n",
    "                \n",
    "        while list2 != None:\n",
    "                margeArray2.append(list2.val)\n",
    "                list2 = list2.next\n",
    "        \n",
    "        margeArray1 = margeArray1+margeArray2\n",
    "        \n",
    "        margeArray1 = sorted(margeArray1)\n",
    "        margeArray1 = margeArray1[::-1]\n",
    "        \n",
    "        listMy = None\n",
    "        for i in margeArray1:\n",
    "            listMy = ListNode(int(i), next=listMy)\n",
    "        \n",
    "        print(listMy)\n",
    "        \n",
    "        return listMy"
   ]
  }
 ],
 "metadata": {
  "kernelspec": {
   "display_name": "Python 3",
   "language": "python",
   "name": "python3"
  },
  "language_info": {
   "codemirror_mode": {
    "name": "ipython",
    "version": 3
   },
   "file_extension": ".py",
   "mimetype": "text/x-python",
   "name": "python",
   "nbconvert_exporter": "python",
   "pygments_lexer": "ipython3",
   "version": "3.8.8"
  }
 },
 "nbformat": 4,
 "nbformat_minor": 5
}
