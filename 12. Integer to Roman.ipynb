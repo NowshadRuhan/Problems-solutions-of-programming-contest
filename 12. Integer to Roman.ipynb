{
 "cells": [
  {
   "cell_type": "code",
   "execution_count": 3,
   "id": "fd8a6295",
   "metadata": {},
   "outputs": [
    {
     "name": "stdout",
     "output_type": "stream",
     "text": [
      "MCMXCIV\n"
     ]
    }
   ],
   "source": [
    "class Solution(object):\n",
    "    def intToRoman(self, num):\n",
    "        \"\"\"\n",
    "        :type num: int\n",
    "        :rtype: str\n",
    "        \"\"\"\n",
    "        result = ''\n",
    "        while num != 0:\n",
    "            if num>=1000:\n",
    "                result+='M'\n",
    "                num-=1000\n",
    "                continue\n",
    "            \n",
    "            if num>=900:\n",
    "                result+='CM'\n",
    "                num-=900\n",
    "                continue\n",
    "            \n",
    "            if num>=500:\n",
    "                result+='D'\n",
    "                num-=500\n",
    "                continue\n",
    "            \n",
    "            if num>=400:\n",
    "                result+='CD'\n",
    "                num-=400\n",
    "                continue\n",
    "            \n",
    "            if num>=100:\n",
    "                result+='C'\n",
    "                num-=100\n",
    "                continue\n",
    "            \n",
    "            if num>=90:\n",
    "                result+='XC'\n",
    "                num-=90\n",
    "                continue\n",
    "                \n",
    "            if num>=50:\n",
    "                result+='L'\n",
    "                num-=50\n",
    "                continue\n",
    "            \n",
    "            if num>=40:\n",
    "                result+='XL'\n",
    "                num-=40\n",
    "                continue\n",
    "            \n",
    "            if num>=10:\n",
    "                result+='X'\n",
    "                num-=10\n",
    "                continue\n",
    "            \n",
    "            if num>=9:\n",
    "                result+='IX'\n",
    "                num-=9\n",
    "                continue\n",
    "            \n",
    "            if num>=5:\n",
    "                result+='V'\n",
    "                num-=5\n",
    "                continue\n",
    "            \n",
    "            if num>=4:\n",
    "                result+='IV'\n",
    "                num-=4\n",
    "                continue\n",
    "            \n",
    "            if num>=1:\n",
    "                result+='I'\n",
    "                num-=1\n",
    "                continue\n",
    "                \n",
    "#         print(result)\n",
    "        return result\n",
    "    \n",
    "obj = Solution()\n",
    "print(obj.intToRoman(1994))"
   ]
  },
  {
   "cell_type": "code",
   "execution_count": null,
   "id": "82a0318c",
   "metadata": {},
   "outputs": [],
   "source": []
  }
 ],
 "metadata": {
  "kernelspec": {
   "display_name": "Python 3",
   "language": "python",
   "name": "python3"
  },
  "language_info": {
   "codemirror_mode": {
    "name": "ipython",
    "version": 3
   },
   "file_extension": ".py",
   "mimetype": "text/x-python",
   "name": "python",
   "nbconvert_exporter": "python",
   "pygments_lexer": "ipython3",
   "version": "3.8.8"
  }
 },
 "nbformat": 4,
 "nbformat_minor": 5
}
