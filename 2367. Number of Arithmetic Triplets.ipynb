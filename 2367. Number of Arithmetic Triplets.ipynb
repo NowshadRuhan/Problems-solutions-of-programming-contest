{
 "cells": [
  {
   "cell_type": "code",
   "execution_count": null,
   "id": "32bbbf1c",
   "metadata": {},
   "outputs": [],
   "source": [
    "class Solution(object):\n",
    "    def arithmeticTriplets(self, nums, diff):\n",
    "        \"\"\"\n",
    "        :type nums: List[int]\n",
    "        :type diff: int\n",
    "        :rtype: int\n",
    "        \"\"\"\n",
    "\n",
    "        flag = 0\n",
    "        length1 = len(nums)\n",
    "        for i in range(length1):\n",
    "            for j in range(i+1, length1):\n",
    "                if nums[j] - nums[i] == diff:\n",
    "                    for k in range(j+1, length1):\n",
    "                        if nums[k] - nums[j] == diff:\n",
    "                            flag += 1\n",
    "                            # print(nums[k])\n",
    "                            # print(nums[j])\n",
    "                            # print(flag)\n",
    "                    \n",
    "        \n",
    "        return flag\n",
    "        "
   ]
  }
 ],
 "metadata": {
  "kernelspec": {
   "display_name": "Python 3",
   "language": "python",
   "name": "python3"
  },
  "language_info": {
   "codemirror_mode": {
    "name": "ipython",
    "version": 3
   },
   "file_extension": ".py",
   "mimetype": "text/x-python",
   "name": "python",
   "nbconvert_exporter": "python",
   "pygments_lexer": "ipython3",
   "version": "3.8.8"
  }
 },
 "nbformat": 4,
 "nbformat_minor": 5
}
