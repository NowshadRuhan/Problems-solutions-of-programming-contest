{
 "cells": [
  {
   "cell_type": "code",
   "execution_count": null,
   "id": "c9b4ae67",
   "metadata": {},
   "outputs": [],
   "source": [
    "class Solution:\n",
    "    def firstMissingPositive(self, nums: List[int]) -> int:\n",
    "        nums= set(nums)\n",
    "        for i in range(1,max(nums)+1):\n",
    "            # print(i)\n",
    "            if i in nums:\n",
    "                continue\n",
    "            else:\n",
    "                print(i)\n",
    "                return i\n",
    "        \n",
    "        # print(max(nums)+1)\n",
    "        if 1 not in nums:\n",
    "            return 1\n",
    "        else:\n",
    "            return max(nums)+1"
   ]
  }
 ],
 "metadata": {
  "kernelspec": {
   "display_name": "Python 3",
   "language": "python",
   "name": "python3"
  },
  "language_info": {
   "codemirror_mode": {
    "name": "ipython",
    "version": 3
   },
   "file_extension": ".py",
   "mimetype": "text/x-python",
   "name": "python",
   "nbconvert_exporter": "python",
   "pygments_lexer": "ipython3",
   "version": "3.8.8"
  }
 },
 "nbformat": 4,
 "nbformat_minor": 5
}
