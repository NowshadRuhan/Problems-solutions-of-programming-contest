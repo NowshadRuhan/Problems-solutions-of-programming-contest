{
 "cells": [
  {
   "cell_type": "code",
   "execution_count": null,
   "id": "46c63895",
   "metadata": {},
   "outputs": [],
   "source": [
    "class Solution(object):\n",
    "    def twoSum(self, nums, target):\n",
    "        \"\"\"\n",
    "        :type nums: List[int]\n",
    "        :type target: int\n",
    "        :rtype: List[int]\n",
    "        \"\"\"\n",
    "        mapping = {}\n",
    "        for index, value in enumerate(nums):\n",
    "                nu_val = target-value\n",
    "                if nu_val in mapping:\n",
    "                    return [index, mapping[nu_val]]\n",
    "\n",
    "                else:\n",
    "                    mapping[value] = index\n",
    "                # print(val)"
   ]
  }
 ],
 "metadata": {
  "kernelspec": {
   "display_name": "Python 3",
   "language": "python",
   "name": "python3"
  },
  "language_info": {
   "codemirror_mode": {
    "name": "ipython",
    "version": 3
   },
   "file_extension": ".py",
   "mimetype": "text/x-python",
   "name": "python",
   "nbconvert_exporter": "python",
   "pygments_lexer": "ipython3",
   "version": "3.8.8"
  }
 },
 "nbformat": 4,
 "nbformat_minor": 5
}
