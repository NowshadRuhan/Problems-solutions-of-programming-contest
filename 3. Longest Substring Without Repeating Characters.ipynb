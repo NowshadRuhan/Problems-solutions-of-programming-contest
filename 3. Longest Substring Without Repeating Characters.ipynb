{
 "cells": [
  {
   "cell_type": "code",
   "execution_count": 1,
   "id": "1ecbafe3",
   "metadata": {},
   "outputs": [
    {
     "name": "stdout",
     "output_type": "stream",
     "text": [
      "3\n"
     ]
    }
   ],
   "source": [
    "class Solution(object):\n",
    "   def lengthOfLongestSubstring(self, s):\n",
    "      i =0\n",
    "      j = 0\n",
    "      d={}\n",
    "      ans = 0\n",
    "      while j < len(s):\n",
    "         if s[j] not in d or i>d[s[j]]:\n",
    "            ans = max(ans,(j-i+1))\n",
    "            d[s[j]] = j\n",
    "         else:\n",
    "            i = d[s[j]]+1\n",
    "            ans = max(ans,(j-i+1))\n",
    "            j-=1\n",
    "         #print(ans)\n",
    "         j+=1\n",
    "      return ans\n",
    "ob1 = Solution()\n",
    "print(ob1.lengthOfLongestSubstring(\"ABCABCBB\"))"
   ]
  },
  {
   "cell_type": "code",
   "execution_count": null,
   "id": "4dfb360a",
   "metadata": {},
   "outputs": [],
   "source": []
  }
 ],
 "metadata": {
  "kernelspec": {
   "display_name": "Python 3",
   "language": "python",
   "name": "python3"
  },
  "language_info": {
   "codemirror_mode": {
    "name": "ipython",
    "version": 3
   },
   "file_extension": ".py",
   "mimetype": "text/x-python",
   "name": "python",
   "nbconvert_exporter": "python",
   "pygments_lexer": "ipython3",
   "version": "3.8.8"
  }
 },
 "nbformat": 4,
 "nbformat_minor": 5
}
