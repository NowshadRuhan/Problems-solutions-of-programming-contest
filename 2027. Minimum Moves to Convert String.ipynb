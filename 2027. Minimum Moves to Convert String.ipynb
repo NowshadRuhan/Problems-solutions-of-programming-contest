{
 "cells": [
  {
   "cell_type": "code",
   "execution_count": 3,
   "id": "a3cd95f9",
   "metadata": {},
   "outputs": [
    {
     "name": "stdout",
     "output_type": "stream",
     "text": [
      "2\n"
     ]
    }
   ],
   "source": [
    "class Solution(object):\n",
    "    def minimumMoves(self, s):\n",
    "        \"\"\"\n",
    "        :type s: str\n",
    "        :rtype: int\n",
    "        \"\"\"\n",
    "        i, result = 0, 0\n",
    "        while i<len(s):\n",
    "            if s[i] == \"X\":\n",
    "                result+=1\n",
    "                i+=3\n",
    "            else:\n",
    "                i+=1\n",
    "        \n",
    "        return result\n",
    "    \n",
    "ob1 = Solution()\n",
    "print(ob1.minimumMoves(\"XXOX\"))"
   ]
  },
  {
   "cell_type": "code",
   "execution_count": null,
   "id": "29cf8fe8",
   "metadata": {},
   "outputs": [],
   "source": []
  }
 ],
 "metadata": {
  "kernelspec": {
   "display_name": "Python 3",
   "language": "python",
   "name": "python3"
  },
  "language_info": {
   "codemirror_mode": {
    "name": "ipython",
    "version": 3
   },
   "file_extension": ".py",
   "mimetype": "text/x-python",
   "name": "python",
   "nbconvert_exporter": "python",
   "pygments_lexer": "ipython3",
   "version": "3.8.8"
  }
 },
 "nbformat": 4,
 "nbformat_minor": 5
}
