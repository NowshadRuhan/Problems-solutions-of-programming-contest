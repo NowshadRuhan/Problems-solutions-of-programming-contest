{
 "cells": [
  {
   "cell_type": "code",
   "execution_count": null,
   "id": "339ef885",
   "metadata": {},
   "outputs": [],
   "source": [
    "class Solution(object):\n",
    "    def plusOne(self, digits):\n",
    "        \"\"\"\n",
    "        :type digits: List[int]\n",
    "        :rtype: List[int]\n",
    "        \"\"\"\n",
    "        length = len(digits)\n",
    "        if len(digits) == 1:\n",
    "            if digits[0] == 9:\n",
    "                digits = [1,0]\n",
    "                return digits\n",
    "            if digits[0] == 0:\n",
    "                digits = [1]\n",
    "                return digits\n",
    "        \n",
    "        checkFlag = 0\n",
    "        for i in range(length-1, -1, -1):    \n",
    "            if digits[i] <= 9:\n",
    "                # print(digits)\n",
    "                if digits[i] == 9:\n",
    "                    checkFlag += 1\n",
    "                    digits[i] = 0\n",
    "                else:                \n",
    "                    digits[i] = digits[i]+1\n",
    "                    break\n",
    "        \n",
    "        if checkFlag == length:\n",
    "            digit = []\n",
    "            for i in range(length+1):\n",
    "                if i == 0:\n",
    "                    print(digit)\n",
    "                    digit.append(1)\n",
    "                else:\n",
    "                    digit.append(0)\n",
    "                    \n",
    "            return digit\n",
    "                    \n",
    "        return digits"
   ]
  }
 ],
 "metadata": {
  "kernelspec": {
   "display_name": "Python 3",
   "language": "python",
   "name": "python3"
  },
  "language_info": {
   "codemirror_mode": {
    "name": "ipython",
    "version": 3
   },
   "file_extension": ".py",
   "mimetype": "text/x-python",
   "name": "python",
   "nbconvert_exporter": "python",
   "pygments_lexer": "ipython3",
   "version": "3.8.8"
  }
 },
 "nbformat": 4,
 "nbformat_minor": 5
}
