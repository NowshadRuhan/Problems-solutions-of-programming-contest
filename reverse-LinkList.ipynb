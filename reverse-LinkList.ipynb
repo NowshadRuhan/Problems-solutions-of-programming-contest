{
 "cells": [
  {
   "cell_type": "code",
   "execution_count": 4,
   "id": "5dbfa102",
   "metadata": {},
   "outputs": [
    {
     "name": "stdout",
     "output_type": "stream",
     "text": [
      "Linked List\n",
      "1\n",
      "2\n",
      "3\n",
      "4\n",
      "Reversed Linked List\n",
      "4\n",
      "3\n",
      "2\n",
      "1\n"
     ]
    }
   ],
   "source": [
    "class Node:\n",
    "  # constructor\n",
    "  def __init__(self, data = None, next=None): \n",
    "    self.data = data\n",
    "    self.next = next\n",
    "\n",
    "# A Linked List class with a single head node\n",
    "class LinkedList:\n",
    "      def __init__(self):  \n",
    "        self.head = None\n",
    "\n",
    "      # insertion method for the linked list\n",
    "      def insert(self, data):\n",
    "        newNode = Node(data)\n",
    "        if(self.head):\n",
    "          current = self.head\n",
    "          while(current.next):\n",
    "            current = current.next\n",
    "          current.next = newNode\n",
    "        else:\n",
    "          self.head = newNode\n",
    "\n",
    "      # print method for the linked list\n",
    "      def printLL(self):\n",
    "        current = self.head\n",
    "        while(current):\n",
    "          print(current.data)\n",
    "          current = current.next\n",
    "\n",
    "\n",
    "        def reverseList(list):\n",
    "          # initialize variables\n",
    "          previous = None         # `previous` initially points to None\n",
    "          current = list.head     # `current` points at the first element\n",
    "          following = current.next    # `following` points at the second element\n",
    "\n",
    "          # go till the last element of the list\n",
    "          while current:\n",
    "              current.next = previous # reverse the link\n",
    "              previous = current      # move `previous` one step ahead\n",
    "              current = following         # move `current` one step ahead\n",
    "              if following:               # if this was not the last element\n",
    "                  following = following.next    # move `following` one step ahead\n",
    "\n",
    "          list.head = previous\n",
    "\n",
    "\n",
    "# Testing\n",
    "LL = LinkedList()\n",
    "LL.insert(1)\n",
    "LL.insert(2)\n",
    "LL.insert(3)\n",
    "LL.insert(4)\n",
    "print(\"Linked List\")\n",
    "LL.printLL()\n",
    "print(\"Reversed Linked List\")\n",
    "reverseList(LL)\n",
    "LL.printLL()"
   ]
  },
  {
   "cell_type": "code",
   "execution_count": null,
   "id": "5aeaf886",
   "metadata": {},
   "outputs": [],
   "source": []
  }
 ],
 "metadata": {
  "kernelspec": {
   "display_name": "Python 3",
   "language": "python",
   "name": "python3"
  },
  "language_info": {
   "codemirror_mode": {
    "name": "ipython",
    "version": 3
   },
   "file_extension": ".py",
   "mimetype": "text/x-python",
   "name": "python",
   "nbconvert_exporter": "python",
   "pygments_lexer": "ipython3",
   "version": "3.8.8"
  }
 },
 "nbformat": 4,
 "nbformat_minor": 5
}
