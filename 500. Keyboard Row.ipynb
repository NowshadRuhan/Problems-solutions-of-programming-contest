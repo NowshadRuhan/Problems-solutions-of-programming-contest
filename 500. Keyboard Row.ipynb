{
 "cells": [
  {
   "cell_type": "code",
   "execution_count": 1,
   "id": "df650b7b",
   "metadata": {},
   "outputs": [
    {
     "name": "stdout",
     "output_type": "stream",
     "text": [
      "['Alaska', 'Dad']\n"
     ]
    }
   ],
   "source": [
    "class Solution(object):\n",
    "    def findWords(self, words):\n",
    "        \"\"\"\n",
    "        :type words: List[str]\n",
    "        :rtype: List[str]\n",
    "        \"\"\"\n",
    "        \n",
    "        firstRow = \"qwertyuiop\"\n",
    "        secondRow = \"asdfghjkl\"\n",
    "        thirdRow = \"zxcvbnm\"\n",
    "        result = []\n",
    "        for i in range(len(words)):\n",
    "            add = words[i]\n",
    "#             Though there is first char in Uppercase, so for checking we can set it in lowercase\n",
    "            checker = words[i].lower()\n",
    "#     checker values\n",
    "            f, s, t = 0, 0, 0\n",
    "            for j in range(len(checker)):\n",
    "                if checker[j] in firstRow:\n",
    "                    f+=1\n",
    "                elif checker[j] in secondRow:\n",
    "                    s+=1\n",
    "                elif checker[j] in thirdRow:\n",
    "                    t+=1\n",
    "#       if any one of checker length equal to string length the it will add to result \n",
    "            if f == len(checker):\n",
    "                result.append(add)\n",
    "            elif s == len(add):\n",
    "                result.append(add)\n",
    "            elif t == len(add):\n",
    "                result.append(add)\n",
    "        \n",
    "        # print(result)\n",
    "        return result\n",
    "\n",
    "\n",
    "obj = Solution()\n",
    "print(obj.findWords([\"Hello\",\"Alaska\",\"Dad\",\"Peace\"]))"
   ]
  },
  {
   "cell_type": "code",
   "execution_count": null,
   "id": "be278f24",
   "metadata": {},
   "outputs": [],
   "source": []
  }
 ],
 "metadata": {
  "kernelspec": {
   "display_name": "Python 3",
   "language": "python",
   "name": "python3"
  },
  "language_info": {
   "codemirror_mode": {
    "name": "ipython",
    "version": 3
   },
   "file_extension": ".py",
   "mimetype": "text/x-python",
   "name": "python",
   "nbconvert_exporter": "python",
   "pygments_lexer": "ipython3",
   "version": "3.8.8"
  }
 },
 "nbformat": 4,
 "nbformat_minor": 5
}
