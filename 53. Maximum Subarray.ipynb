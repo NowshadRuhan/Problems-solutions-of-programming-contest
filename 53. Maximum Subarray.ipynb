{
 "cells": [
  {
   "cell_type": "code",
   "execution_count": null,
   "id": "fcfd6193",
   "metadata": {},
   "outputs": [],
   "source": [
    "class Solution(object):\n",
    "    def maxSubArray(self, nums):\n",
    "        \"\"\"\n",
    "        :type nums: List[int]\n",
    "        :rtype: int\n",
    "        \"\"\"\n",
    "        largestNumber1 = 0\n",
    "        largestSum =  nums[0]\n",
    "        for i in range(len(nums)):\n",
    "            largestNumber1 = max(nums[i], largestNumber1+nums[i])\n",
    "            largestSum = max(largestSum, largestNumber1)\n",
    "            \n",
    "        \n",
    "        return largestSum"
   ]
  }
 ],
 "metadata": {
  "kernelspec": {
   "display_name": "Python 3",
   "language": "python",
   "name": "python3"
  },
  "language_info": {
   "codemirror_mode": {
    "name": "ipython",
    "version": 3
   },
   "file_extension": ".py",
   "mimetype": "text/x-python",
   "name": "python",
   "nbconvert_exporter": "python",
   "pygments_lexer": "ipython3",
   "version": "3.8.8"
  }
 },
 "nbformat": 4,
 "nbformat_minor": 5
}
