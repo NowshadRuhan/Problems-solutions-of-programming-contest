{
 "cells": [
  {
   "cell_type": "code",
   "execution_count": null,
   "id": "277f8ac3",
   "metadata": {},
   "outputs": [],
   "source": [
    "class Solution(object):\n",
    "    def countBits(self, n):\n",
    "        \"\"\"\n",
    "        :type n: int\n",
    "        :rtype: List[int]\n",
    "        \"\"\"\n",
    "        list1 = []\n",
    "        for i in range(n+1):\n",
    "            flag = bin(i)\n",
    "            flag = flag.count('1')\n",
    "            list1.append(flag)\n",
    "            \n",
    "        return list1"
   ]
  }
 ],
 "metadata": {
  "kernelspec": {
   "display_name": "Python 3",
   "language": "python",
   "name": "python3"
  },
  "language_info": {
   "codemirror_mode": {
    "name": "ipython",
    "version": 3
   },
   "file_extension": ".py",
   "mimetype": "text/x-python",
   "name": "python",
   "nbconvert_exporter": "python",
   "pygments_lexer": "ipython3",
   "version": "3.8.8"
  }
 },
 "nbformat": 4,
 "nbformat_minor": 5
}
